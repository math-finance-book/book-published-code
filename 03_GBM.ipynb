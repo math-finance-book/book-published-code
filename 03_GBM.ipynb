{
  "cells": [
    {
      "cell_type": "markdown",
      "metadata": {},
      "source": [
        "---\n",
        "\n",
        "Created for [Pricing and Hedging Derivative Securities: Theory and Methods](https://book.derivative-securities.org/)\n",
        "\n",
        "Authored by\n",
        "- Kerry Back, Rice University\n",
        "- Hong Liu, Washington University in St. Louis\n",
        "- Mark Loewenstein, University of Maryland\n",
        " \n",
        "---\n",
        "\n",
        "<a target=\"_blank\" href=\"https://colab.research.google.com/github/math-finance-book/book-code/blob/main/03_GBM.ipynb\">\n",
        "  <img src=\"https://colab.research.google.com/assets/colab-badge.svg\" alt=\"Open In Colab\"/>\n",
        "</a>"
      ]
    },
    {
      "cell_type": "code",
      "metadata": {},
      "source": [
        "\n",
        "import plotly\n",
        "from IPython.display import display, HTML\n",
        "\n",
        "plotly.offline.init_notebook_mode(connected=True)\n",
        "display(\n",
        "    HTML(\n",
        "        '<script type=\"text/javascript\" async src=\"https://cdnjs.cloudflare.com/ajax/libs/mathjax/2.7.1/MathJax.js?config=TeX-MML-AM_SVG\"></script>'\n",
        "    )\n",
        ")"
      ],
      "execution_count": null,
      "outputs": []
    },
    {
      "cell_type": "code",
      "metadata": {},
      "source": [
        "import numpy as np\n",
        "import plotly.graph_objects as go\n",
        "\n",
        "n = 10000   # number of paths\n",
        "m = 1000    #number of divisions\n",
        "r = 0.1     # Interest rate (We set the drift equal to the interest rate)\n",
        "sig = 0.2   # Volatility\n",
        "S0 = 42     # Initial Stock Price\n",
        "T = 0.5     # Maturity\n",
        "dt = T/m    # Delta t\n",
        "drift = (r-0.5*sig**2)      # Drift\n",
        "vol = sig * np.sqrt(dt)     # Volatility\n",
        "t = np.array(range(0,m + 1,1)) * dt\n",
        "seed= 2020                  # seed for random generator\n",
        "np.random.seed(seed)        # define a random generator\n",
        "inc = np.zeros(shape = (m + 1, n))\n",
        "inc[1:] = np.transpose(np.random.normal(loc = 0, scale = vol,size = (n,m)))\n",
        "St = np.zeros(shape = (m + 1, n))\n",
        "St = S0 * np.exp(np.cumsum(inc,axis=0) + (drift * t[0:m + 1])[:,None])\n",
        "St1 = S0 * np.exp(-np.cumsum(inc,axis=0) + (drift * t[0:m + 1])[:,None])\n",
        "\n",
        "fig = go.Figure()\n",
        "fig.add_trace(\n",
        "    go.Scatter(\n",
        "        x=t,\n",
        "        y=St[:,1],\n",
        "        mode=\"lines\",\n",
        "        hovertemplate=\"t = %{x:.2f}<br>B = %{y:.2f}<extra></extra>\",  #\n",
        "    )\n",
        ")\n",
        "\n",
        "fig.update_layout(\n",
        "    showlegend=False,\n",
        "    xaxis_title=\"Time\",\n",
        "    yaxis_title=\"Simulated Stock Price\",\n",
        "    template=\"plotly_white\",\n",
        "    height=300,\n",
        ")\n",
        "\n",
        "fig.show()"
      ],
      "execution_count": null,
      "outputs": []
    },
    {
      "cell_type": "code",
      "metadata": {},
      "source": [
        "import numpy as np\n",
        "import plotly.graph_objects as go\n",
        "\n",
        "fig = go.Figure(data=[go.Histogram(x=St[m,:])])\n",
        "fig.update_layout(\n",
        "    showlegend=False,\n",
        "    xaxis_title=\"$S_T$\",\n",
        "    template=\"plotly_white\",\n",
        "    height=300,\n",
        ")\n",
        "fig.show()"
      ],
      "execution_count": null,
      "outputs": []
    }
  ],
  "metadata": {
    "kernelspec": {
      "name": "python3",
      "language": "python",
      "display_name": "Python 3 (ipykernel)",
      "path": "C:\\Users\\kerry\\AppData\\Local\\Programs\\Python\\Python313\\share\\jupyter\\kernels\\python3"
    }
  },
  "nbformat": 4,
  "nbformat_minor": 4
}