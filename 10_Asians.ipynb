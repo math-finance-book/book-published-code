{
  "cells": [
    {
      "cell_type": "markdown",
      "metadata": {},
      "source": [
        "---\n",
        "\n",
        "Created for [Pricing and Hedging Derivative Securities: Theory and Methods](https://book.derivative-securities.org/)\n",
        "\n",
        "Authored by\n",
        "- Kerry Back, Rice University\n",
        "- Hong Liu, Washington University in St. Louis\n",
        "- Mark Loewenstein, University of Maryland\n",
        " \n",
        "---\n",
        "\n",
        "<a target=\"_blank\" href=\"https://colab.research.google.com/github/math-finance-book/book-code/blob/main/10_Asians.ipynb\">\n",
        "  <img src=\"https://colab.research.google.com/assets/colab-badge.svg\" alt=\"Open In Colab\"/>\n",
        "</a>"
      ]
    },
    {
      "cell_type": "code",
      "metadata": {},
      "source": [
        "\n",
        "import plotly\n",
        "from IPython.display import display, HTML\n",
        "\n",
        "plotly.offline.init_notebook_mode(connected=True)\n",
        "display(\n",
        "    HTML(\n",
        "        '<script type=\"text/javascript\" async src=\"https://cdnjs.cloudflare.com/ajax/libs/mathjax/2.7.1/MathJax.js?config=TeX-MML-AM_SVG\"></script>'\n",
        "    )\n",
        ")"
      ],
      "execution_count": null,
      "outputs": []
    },
    {
      "cell_type": "code",
      "metadata": {},
      "source": [
        "import numpy as np\n",
        "from scipy.stats import norm\n",
        "\n",
        "def black_scholes_call(S, K, r, sigma, q, T):\n",
        "    \"\"\"\n",
        "    Inputs:\n",
        "    S = initial stock price\n",
        "    K = strike price\n",
        "    r = risk-free rate\n",
        "    sigma = volatility\n",
        "    q = dividend yield\n",
        "    T = time to maturity\n",
        "    \"\"\"\n",
        "    if sigma <= 0 or T <= 0:\n",
        "        return max(0, np.exp(-q * T) * S - np.exp(-r * T) * K)\n",
        "    \n",
        "    d1 = (np.log(S / K) + (r - q + 0.5 * sigma ** 2) * T) / (sigma * np.sqrt(T))\n",
        "    d2 = d1 - sigma * np.sqrt(T)\n",
        "    N1 = norm.cdf(d1)\n",
        "    N2 = norm.cdf(d2)\n",
        "    return np.exp(-q * T) * S * N1 - np.exp(-r * T) * K * N2\n",
        "\n",
        "def discrete_geom_average_price_call(S, K, r, sigma, q, T, N):\n",
        "    dt = T / N\n",
        "    nu = r - q - 0.5 * sigma ** 2\n",
        "    a = N * (N + 1) * (2 * N + 1) / 6\n",
        "    V = np.exp(-r * T) * S * np.exp(((N + 1) * nu / 2 + sigma ** 2 * a / (2 * N ** 2)) * dt)\n",
        "    sigavg = sigma * np.sqrt(a) / (N ** 1.5)\n",
        "    return black_scholes_call(V, K, r, sigavg, q, T)\n",
        "\n",
        "S=60\n",
        "K=50\n",
        "r=0.05\n",
        "sigma=0.2\n",
        "q=0\n",
        "T=1\n",
        "N=100\n",
        "\n",
        "print(\"Discrete Geometric Average Price Call:\", discrete_geom_average_price_call(S, K, r, sigma, q, T, N))"
      ],
      "execution_count": null,
      "outputs": []
    }
  ],
  "metadata": {
    "kernelspec": {
      "name": "python3",
      "language": "python",
      "display_name": "Python 3 (ipykernel)",
      "path": "C:\\Users\\kerry\\AppData\\Local\\Programs\\Python\\Python313\\share\\jupyter\\kernels\\python3"
    }
  },
  "nbformat": 4,
  "nbformat_minor": 4
}